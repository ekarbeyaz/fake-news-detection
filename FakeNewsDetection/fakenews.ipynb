{
 "cells": [
  {
   "cell_type": "markdown",
   "id": "irish-period",
   "metadata": {},
   "source": [
    "## DETECTING FAKE NEWS WITH PYTHON"
   ]
  },
  {
   "cell_type": "markdown",
   "id": "absent-forge",
   "metadata": {},
   "source": [
    "In this tutorial we will learn how to detect fake news with using Python. First we will learn terms that related to this project like fake news, TfidfVectorizer and PassiveAggressiveClassifier. Using sklearn, we build a TfidfVectorizer on our dataset. Then, we initialize a PassiveAggressive Classifier and fit the model. In the end, the accuracy score and the confusion matrix tell us how well our model fares.\n",
    "\n",
    "### What is Fake News?\n",
    "Fake news is a term that has come to mean different things to different people. At its core, we are defining fake news as those news stories that are false: the story itself is fabricated, with no verifiable facts, sources or quotes. Sometimes these stories may be propaganda that is intentionally designed to mislead the reader, or may be designed as “clickbait” written for economic incentives (the writer profits on the number of people who click on the story). In recent years, fake news stories have proliferated via social media, in part because they are so easily and quickly shared online. <sup class = \"reference\"><a href=\"https://guides.lib.umich.edu/fakenews\">[1]</a></sup>"
   ]
  },
  {
   "cell_type": "markdown",
   "id": "auburn-facial",
   "metadata": {},
   "source": [
    "### What is a TfidfVectorizer?\n",
    "TfidfVectorizer is a feature extraction algorithm. It converts a collection of raw documents to a matrix of TF-IDF features. <sup class = \"reference\"><a href=\"https://scikit-learn.org/stable/modules/generated/sklearn.feature_extraction.text.TfidfVectorizer.html\">[2]</a></sup> The raw documents here, is the news in the dataset.\n",
    "\n",
    "<strong>TF(Term Frequency):</strong> The number of times a word appears in a document is its Term Frequency. A higher value means a term appears more often than others, and so, the document is a good match when the term is part of the search terms.\n",
    "\n",
    "<strong>IDF (Inverse Document Frequency):</strong> Words that occur many times a document, but also occur many times in many others, may be irrelevant. IDF is a measure of how significant a term is in the entire corpus.\n",
    "\n",
    "<strong>PassiveAggressiveClassifier:</strong> The passive-aggressive algorithms are a family of algorithms for large-scale learning.<sup class = \"reference\"><a href=\"https://scikit-learn.org/stable/modules/generated/sklearn.linear_model.PassiveAggressiveClassifier.html#sklearn.linear_model.PassiveAggressiveClassifier\">[3]</a></sup> Passive Aggressive algorithms are online learning algorithms. Such an algorithm remains passive for a correct classification outcome, and turns aggressive in the event of a miscalculation, updating and adjusting. Unlike most other algorithms, it does not converge. Its purpose is to make updates that correct the loss, causing very little change in the norm of the weight vector.\n",
    "\n",
    "![title](https://miro.medium.com/max/700/1*qQgnyPLDIkUmeZKN2_ZWbQ.png)"
   ]
  },
  {
   "cell_type": "markdown",
   "id": "olympic-pendant",
   "metadata": {},
   "source": [
    "### The Dataset\n",
    "\n",
    "The dataset we'll use in this project, is called news.csv. This dataset has a shape of 6335×4. The first column identifies the news, the second and third are the title and text, and the fourth column has labels indicating whether the news real or fake.\n",
    "\n",
    "You can download the dataset from here: https://drive.google.com/file/d/1er9NJTLUA3qnRuyhfzuN0XUsoIC4a-_q/view"
   ]
  },
  {
   "cell_type": "markdown",
   "id": "architectural-offer",
   "metadata": {},
   "source": [
    "### Steps for the project\n",
    "1. Import the libraries\n",
    "2. Read the data\n",
    "3. Split the dataset\n",
    "4. Train the TfidfVectorizer\n",
    "5. Train and predict"
   ]
  },
  {
   "cell_type": "markdown",
   "id": "bibliographic-former",
   "metadata": {},
   "source": [
    "### 1. Import the libraries"
   ]
  },
  {
   "cell_type": "markdown",
   "id": "fewer-national",
   "metadata": {},
   "source": [
    "To run this project properly you'll need some Python libraries. You'll need to install the following libraries with pip:\n",
    "\n",
    "pip install numpy pandas sklearn seaborn\n",
    "\n",
    "Also you'll need Jupyter Lab to run this project."
   ]
  },
  {
   "cell_type": "code",
   "execution_count": 2,
   "id": "narrow-compromise",
   "metadata": {},
   "outputs": [],
   "source": [
    "import numpy as np\n",
    "import pandas as pd\n",
    "import itertools\n",
    "import seaborn as sns\n",
    "from sklearn.model_selection import train_test_split\n",
    "from sklearn.feature_extraction.text import TfidfVectorizer\n",
    "from sklearn.linear_model import PassiveAggressiveClassifier\n",
    "from sklearn.metrics import accuracy_score, confusion_matrix"
   ]
  },
  {
   "cell_type": "markdown",
   "id": "southeast-rider",
   "metadata": {},
   "source": [
    "### 2. Read the data"
   ]
  },
  {
   "cell_type": "markdown",
   "id": "consecutive-arbor",
   "metadata": {},
   "source": [
    "Let's read the data into a DataFrame, and get the first 5 records."
   ]
  },
  {
   "cell_type": "code",
   "execution_count": 4,
   "id": "fifteen-lesson",
   "metadata": {},
   "outputs": [
    {
     "data": {
      "text/html": [
       "<div>\n",
       "<style scoped>\n",
       "    .dataframe tbody tr th:only-of-type {\n",
       "        vertical-align: middle;\n",
       "    }\n",
       "\n",
       "    .dataframe tbody tr th {\n",
       "        vertical-align: top;\n",
       "    }\n",
       "\n",
       "    .dataframe thead th {\n",
       "        text-align: right;\n",
       "    }\n",
       "</style>\n",
       "<table border=\"1\" class=\"dataframe\">\n",
       "  <thead>\n",
       "    <tr style=\"text-align: right;\">\n",
       "      <th></th>\n",
       "      <th>Unnamed: 0</th>\n",
       "      <th>title</th>\n",
       "      <th>text</th>\n",
       "      <th>label</th>\n",
       "    </tr>\n",
       "  </thead>\n",
       "  <tbody>\n",
       "    <tr>\n",
       "      <th>0</th>\n",
       "      <td>8476</td>\n",
       "      <td>You Can Smell Hillary’s Fear</td>\n",
       "      <td>Daniel Greenfield, a Shillman Journalism Fello...</td>\n",
       "      <td>FAKE</td>\n",
       "    </tr>\n",
       "    <tr>\n",
       "      <th>1</th>\n",
       "      <td>10294</td>\n",
       "      <td>Watch The Exact Moment Paul Ryan Committed Pol...</td>\n",
       "      <td>Google Pinterest Digg Linkedin Reddit Stumbleu...</td>\n",
       "      <td>FAKE</td>\n",
       "    </tr>\n",
       "    <tr>\n",
       "      <th>2</th>\n",
       "      <td>3608</td>\n",
       "      <td>Kerry to go to Paris in gesture of sympathy</td>\n",
       "      <td>U.S. Secretary of State John F. Kerry said Mon...</td>\n",
       "      <td>REAL</td>\n",
       "    </tr>\n",
       "    <tr>\n",
       "      <th>3</th>\n",
       "      <td>10142</td>\n",
       "      <td>Bernie supporters on Twitter erupt in anger ag...</td>\n",
       "      <td>— Kaydee King (@KaydeeKing) November 9, 2016 T...</td>\n",
       "      <td>FAKE</td>\n",
       "    </tr>\n",
       "    <tr>\n",
       "      <th>4</th>\n",
       "      <td>875</td>\n",
       "      <td>The Battle of New York: Why This Primary Matters</td>\n",
       "      <td>It's primary day in New York and front-runners...</td>\n",
       "      <td>REAL</td>\n",
       "    </tr>\n",
       "  </tbody>\n",
       "</table>\n",
       "</div>"
      ],
      "text/plain": [
       "   Unnamed: 0                                              title  \\\n",
       "0        8476                       You Can Smell Hillary’s Fear   \n",
       "1       10294  Watch The Exact Moment Paul Ryan Committed Pol...   \n",
       "2        3608        Kerry to go to Paris in gesture of sympathy   \n",
       "3       10142  Bernie supporters on Twitter erupt in anger ag...   \n",
       "4         875   The Battle of New York: Why This Primary Matters   \n",
       "\n",
       "                                                text label  \n",
       "0  Daniel Greenfield, a Shillman Journalism Fello...  FAKE  \n",
       "1  Google Pinterest Digg Linkedin Reddit Stumbleu...  FAKE  \n",
       "2  U.S. Secretary of State John F. Kerry said Mon...  REAL  \n",
       "3  — Kaydee King (@KaydeeKing) November 9, 2016 T...  FAKE  \n",
       "4  It's primary day in New York and front-runners...  REAL  "
      ]
     },
     "execution_count": 4,
     "metadata": {},
     "output_type": "execute_result"
    }
   ],
   "source": [
    "df = pd.read_csv(\"./news.csv\")\n",
    "df.head()"
   ]
  },
  {
   "cell_type": "markdown",
   "id": "blind-reggae",
   "metadata": {},
   "source": [
    "### 3. Split the dataset\n",
    "X defines the news on the dataset, and y defines the labels on the dataset. We don't need to use title column because, we need to train the model only with news, which is the text column. Then split the dataset into training and testing sets."
   ]
  },
  {
   "cell_type": "code",
   "execution_count": 41,
   "id": "stunning-passport",
   "metadata": {},
   "outputs": [],
   "source": [
    "X = df.text\n",
    "y = df.label #or df[\"label\"]\n",
    "\n",
    "X_train, X_test, y_train, y_test = train_test_split(X, y, test_size = 0.2, random_state = 7)"
   ]
  },
  {
   "cell_type": "markdown",
   "id": "cubic-pendant",
   "metadata": {},
   "source": [
    "### 4. Train the TfidfVectorizer\n",
    "Let’s initialize a TfidfVectorizer with stop words from the English language and a maximum document frequency of 0.7 (terms with a higher document frequency will be discarded). Stop words are the most common words in a language that are to be filtered out before processing the natural language data. And a TfidfVectorizer turns a collection of raw documents into a matrix of TF-IDF features.\n",
    "\n",
    "Now, fit and transform the vectorizer on the train set, and transform the vectorizer on the test set. After the transform, we can print some values to see what are outputs like. First we're going to print the type of the tfidf_test variable. It says the tfidf_test variable is sparse matrix. Second and third we're going to print the shape of the train and test variables. If we look at the tfidf_test.shape result, the first value in the tuple, represents row count of the test data, and the second value represents word count in the text column."
   ]
  },
  {
   "cell_type": "code",
   "execution_count": 42,
   "id": "awful-crown",
   "metadata": {},
   "outputs": [
    {
     "name": "stdout",
     "output_type": "stream",
     "text": [
      "<class 'scipy.sparse.csr.csr_matrix'>\n",
      "(5068, 61651)\n",
      "(1267, 61651)\n"
     ]
    }
   ],
   "source": [
    "tfidf_vectorizer=TfidfVectorizer(stop_words='english', max_df=0.7)\n",
    "tfidf_train=tfidf_vectorizer.fit_transform(X_train)\n",
    "tfidf_test=tfidf_vectorizer.transform(X_test)\n",
    "\n",
    "print(type(tfidf_test))\n",
    "print(tfidf_train.shape)\n",
    "print(tfidf_test.shape)"
   ]
  },
  {
   "cell_type": "markdown",
   "id": "latin-simulation",
   "metadata": {},
   "source": [
    "### 5. Train and predict\n",
    "Next, we’ll initialize a PassiveAggressiveClassifier. We’ll fit this on tfidf_train and y_train.\n",
    "\n",
    "Then, we’ll predict on the test set from the TfidfVectorizer and calculate the accuracy with accuracy_score() from sklearn.metrics."
   ]
  },
  {
   "cell_type": "code",
   "execution_count": 46,
   "id": "assured-amazon",
   "metadata": {},
   "outputs": [
    {
     "name": "stdout",
     "output_type": "stream",
     "text": [
      "Accuracy: 92.98%\n"
     ]
    }
   ],
   "source": [
    "pac=PassiveAggressiveClassifier(max_iter=50)\n",
    "pac.fit(tfidf_train,y_train)\n",
    "\n",
    "y_pred=pac.predict(tfidf_test)\n",
    "score=accuracy_score(y_test,y_pred)\n",
    "print(f'Accuracy: {round(score*100,2)}%')"
   ]
  },
  {
   "cell_type": "markdown",
   "id": "offshore-charm",
   "metadata": {},
   "source": [
    "We got an accuracy of 92.98% with this model. Let’s print out a confusion matrix to gain insight into the number of false and true negatives and positives."
   ]
  },
  {
   "cell_type": "code",
   "execution_count": 47,
   "id": "natural-fantasy",
   "metadata": {},
   "outputs": [
    {
     "name": "stdout",
     "output_type": "stream",
     "text": [
      "[[589  49]\n",
      " [ 40 589]]\n"
     ]
    }
   ],
   "source": [
    "cm = confusion_matrix(y_test,y_pred, labels=['FAKE','REAL'])\n",
    "print(cm)"
   ]
  },
  {
   "cell_type": "markdown",
   "id": "amber-doubt",
   "metadata": {},
   "source": [
    "So with this model, we have 589 true positives, 589 true negatives, 40 false positives, and 49 false negatives."
   ]
  },
  {
   "cell_type": "markdown",
   "id": "fuzzy-binary",
   "metadata": {},
   "source": [
    "Finally let's print the graph of confusion matrix."
   ]
  },
  {
   "cell_type": "code",
   "execution_count": 48,
   "id": "preliminary-attendance",
   "metadata": {},
   "outputs": [
    {
     "data": {
      "text/plain": [
       "<AxesSubplot:>"
      ]
     },
     "execution_count": 48,
     "metadata": {},
     "output_type": "execute_result"
    },
    {
     "data": {
      "image/png": "[encoded data removed]",
      "text/plain": [
       "<Figure size 432x288 with 2 Axes>"
      ]
     },
     "metadata": {
      "needs_background": "light"
     },
     "output_type": "display_data"
    }
   ],
   "source": [
    "sns.heatmap(cm, annot=True, fmt=\"d\", cmap='Blues')"
   ]
  },
  {
   "cell_type": "markdown",
   "id": "alive-canadian",
   "metadata": {},
   "source": [
    "### References\n",
    "1. UNIVERSITY OF MICHIGAN LIBRARY, <https://guides.lib.umich.edu/fakenews>\n",
    "2. Scikit-learn, <https://scikit-learn.org/stable/modules/generated/sklearn.feature_extraction.text.TfidfVectorizer.html>\n",
    "3. Scikit-learn, <https://scikit-learn.org/stable/modules/generated/sklearn.linear_model.PassiveAggressiveClassifier.html>"
   ]
  }
 ],
 "metadata": {
  "kernelspec": {
   "display_name": "Python 3",
   "language": "python",
   "name": "python3"
  },
  "language_info": {
   "codemirror_mode": {
    "name": "ipython",
    "version": 3
   },
   "file_extension": ".py",
   "mimetype": "text/x-python",
   "name": "python",
   "nbconvert_exporter": "python",
   "pygments_lexer": "ipython3",
   "version": "3.9.1"
  }
 },
 "nbformat": 4,
 "nbformat_minor": 5
}
